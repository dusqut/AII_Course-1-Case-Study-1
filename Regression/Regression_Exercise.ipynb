{
 "cells": [
  {
   "cell_type": "code",
   "execution_count": 17,
   "id": "99f0e9dd",
   "metadata": {},
   "outputs": [],
   "source": [
    "from sklearn import datasets\n",
    "import pandas as pd\n",
    "import numpy as np\n",
    "import matplotlib.pyplot as plt\n",
    "\n",
    "from sklearn.linear_model import LinearRegression\n",
    "from sklearn.preprocessing import PolynomialFeatures\n",
    "from sklearn.svm import SVR\n",
    "\n",
    "from sklearn.metrics import mean_squared_error, r2_score"
   ]
  },
  {
   "cell_type": "code",
   "execution_count": 14,
   "id": "db43df81",
   "metadata": {},
   "outputs": [],
   "source": [
    "data,target = datasets.load_diabetes(return_X_y=True,as_frame=True,scaled=False)"
   ]
  },
  {
   "cell_type": "code",
   "execution_count": 15,
   "id": "444df224",
   "metadata": {},
   "outputs": [
    {
     "data": {
      "text/html": [
       "<div>\n",
       "<style scoped>\n",
       "    .dataframe tbody tr th:only-of-type {\n",
       "        vertical-align: middle;\n",
       "    }\n",
       "\n",
       "    .dataframe tbody tr th {\n",
       "        vertical-align: top;\n",
       "    }\n",
       "\n",
       "    .dataframe thead th {\n",
       "        text-align: right;\n",
       "    }\n",
       "</style>\n",
       "<table border=\"1\" class=\"dataframe\">\n",
       "  <thead>\n",
       "    <tr style=\"text-align: right;\">\n",
       "      <th></th>\n",
       "      <th>age</th>\n",
       "      <th>sex</th>\n",
       "      <th>bmi</th>\n",
       "      <th>bp</th>\n",
       "      <th>s1</th>\n",
       "      <th>s2</th>\n",
       "      <th>s3</th>\n",
       "      <th>s4</th>\n",
       "      <th>s5</th>\n",
       "      <th>s6</th>\n",
       "    </tr>\n",
       "  </thead>\n",
       "  <tbody>\n",
       "    <tr>\n",
       "      <th>0</th>\n",
       "      <td>59.0</td>\n",
       "      <td>2.0</td>\n",
       "      <td>32.1</td>\n",
       "      <td>101.0</td>\n",
       "      <td>157.0</td>\n",
       "      <td>93.2</td>\n",
       "      <td>38.0</td>\n",
       "      <td>4.0</td>\n",
       "      <td>4.8598</td>\n",
       "      <td>87.0</td>\n",
       "    </tr>\n",
       "    <tr>\n",
       "      <th>1</th>\n",
       "      <td>48.0</td>\n",
       "      <td>1.0</td>\n",
       "      <td>21.6</td>\n",
       "      <td>87.0</td>\n",
       "      <td>183.0</td>\n",
       "      <td>103.2</td>\n",
       "      <td>70.0</td>\n",
       "      <td>3.0</td>\n",
       "      <td>3.8918</td>\n",
       "      <td>69.0</td>\n",
       "    </tr>\n",
       "    <tr>\n",
       "      <th>2</th>\n",
       "      <td>72.0</td>\n",
       "      <td>2.0</td>\n",
       "      <td>30.5</td>\n",
       "      <td>93.0</td>\n",
       "      <td>156.0</td>\n",
       "      <td>93.6</td>\n",
       "      <td>41.0</td>\n",
       "      <td>4.0</td>\n",
       "      <td>4.6728</td>\n",
       "      <td>85.0</td>\n",
       "    </tr>\n",
       "    <tr>\n",
       "      <th>3</th>\n",
       "      <td>24.0</td>\n",
       "      <td>1.0</td>\n",
       "      <td>25.3</td>\n",
       "      <td>84.0</td>\n",
       "      <td>198.0</td>\n",
       "      <td>131.4</td>\n",
       "      <td>40.0</td>\n",
       "      <td>5.0</td>\n",
       "      <td>4.8903</td>\n",
       "      <td>89.0</td>\n",
       "    </tr>\n",
       "    <tr>\n",
       "      <th>4</th>\n",
       "      <td>50.0</td>\n",
       "      <td>1.0</td>\n",
       "      <td>23.0</td>\n",
       "      <td>101.0</td>\n",
       "      <td>192.0</td>\n",
       "      <td>125.4</td>\n",
       "      <td>52.0</td>\n",
       "      <td>4.0</td>\n",
       "      <td>4.2905</td>\n",
       "      <td>80.0</td>\n",
       "    </tr>\n",
       "  </tbody>\n",
       "</table>\n",
       "</div>"
      ],
      "text/plain": [
       "    age  sex   bmi     bp     s1     s2    s3   s4      s5    s6\n",
       "0  59.0  2.0  32.1  101.0  157.0   93.2  38.0  4.0  4.8598  87.0\n",
       "1  48.0  1.0  21.6   87.0  183.0  103.2  70.0  3.0  3.8918  69.0\n",
       "2  72.0  2.0  30.5   93.0  156.0   93.6  41.0  4.0  4.6728  85.0\n",
       "3  24.0  1.0  25.3   84.0  198.0  131.4  40.0  5.0  4.8903  89.0\n",
       "4  50.0  1.0  23.0  101.0  192.0  125.4  52.0  4.0  4.2905  80.0"
      ]
     },
     "execution_count": 15,
     "metadata": {},
     "output_type": "execute_result"
    }
   ],
   "source": [
    "data.head()"
   ]
  },
  {
   "cell_type": "markdown",
   "id": "f9f7c83f",
   "metadata": {},
   "source": [
    "#### Attribute Information:\n",
    "\n",
    "* age age in years\n",
    "* sex\n",
    "* bmi body mass index\n",
    "* bp average blood pressure\n",
    "* s1 tc, total serum cholesterol\n",
    "* s2 ldl, low-density lipoproteins\n",
    "* s3 hdl, high-density lipoproteins\n",
    "* s4 tch, total cholesterol / HDL\n",
    "* s5 ltg, possibly log of serum triglycerides level\n",
    "* s6 glu, blood sugar level"
   ]
  },
  {
   "cell_type": "code",
   "execution_count": 16,
   "id": "344604ef",
   "metadata": {},
   "outputs": [
    {
     "data": {
      "text/plain": [
       "0    151.0\n",
       "1     75.0\n",
       "2    141.0\n",
       "3    206.0\n",
       "4    135.0\n",
       "Name: target, dtype: float64"
      ]
     },
     "execution_count": 16,
     "metadata": {},
     "output_type": "execute_result"
    }
   ],
   "source": [
    "target.head()"
   ]
  },
  {
   "cell_type": "code",
   "execution_count": 18,
   "id": "310fb25d",
   "metadata": {},
   "outputs": [],
   "source": [
    "data,target = datasets.load_diabetes(return_X_y=True,as_frame=False,scaled=True)"
   ]
  },
  {
   "cell_type": "code",
   "execution_count": 27,
   "id": "2e9d108d",
   "metadata": {},
   "outputs": [],
   "source": [
    "# Use only one feature\n",
    "# data = data[:, np.newaxis, 2]"
   ]
  },
  {
   "cell_type": "code",
   "execution_count": 33,
   "id": "8d7e038d",
   "metadata": {},
   "outputs": [],
   "source": [
    "# Split the data into training/testing sets\n",
    "X = data[:-20]\n",
    "X_test = data[-20:]\n",
    "\n",
    "# Split the targets into training/testing sets\n",
    "y = target[:-20]\n",
    "y_test = target[-20:]"
   ]
  },
  {
   "cell_type": "markdown",
   "id": "530b3965",
   "metadata": {},
   "source": [
    "### Linear regression"
   ]
  },
  {
   "cell_type": "code",
   "execution_count": 39,
   "id": "5bd36cf0",
   "metadata": {},
   "outputs": [],
   "source": [
    "linear_reg = LinearRegression()\n",
    "linear_reg.fit(X, y)\n",
    "linear_pred = linear_reg.predict(X_test)"
   ]
  },
  {
   "cell_type": "markdown",
   "id": "2aaad7dc",
   "metadata": {},
   "source": [
    "### Polynomial regression"
   ]
  },
  {
   "cell_type": "code",
   "execution_count": 40,
   "id": "e15ac088",
   "metadata": {},
   "outputs": [],
   "source": [
    "poly_features = PolynomialFeatures(degree=2)\n",
    "X_poly = poly_features.fit_transform(X)\n",
    "\n",
    "poly_reg = LinearRegression()\n",
    "poly_reg.fit(X_poly, y)  # Perform the linear regression with the polynomial features (X_poly)\n",
    "\n",
    "X_test_poly = poly_features.fit_transform(X_test)\n",
    "poly_pred = poly_reg.predict(X_test_poly)"
   ]
  },
  {
   "cell_type": "markdown",
   "id": "bc3cd59d",
   "metadata": {},
   "source": [
    "### SVR"
   ]
  },
  {
   "cell_type": "code",
   "execution_count": 47,
   "id": "082f4bed",
   "metadata": {},
   "outputs": [],
   "source": [
    "svr = SVR(kernel='rbf')\n",
    "svr.fit(X, y)\n",
    "svr_pred = svr.predict(X_test)"
   ]
  },
  {
   "cell_type": "markdown",
   "id": "5c5be9ea",
   "metadata": {},
   "source": [
    "### Evaluation"
   ]
  },
  {
   "cell_type": "code",
   "execution_count": 48,
   "id": "d8b8bbfd",
   "metadata": {},
   "outputs": [
    {
     "name": "stdout",
     "output_type": "stream",
     "text": [
      "Linear Regression MSE: 2548.07\n",
      "Linear Regression R-squared: 0.47\n",
      "Polynomial Regression MSE: 2540.66\n",
      "Polynomial Regression R-squared: 0.47\n",
      "SVR Regression MSE: 3252.07\n",
      "SVR Regression R-squared: 0.33\n"
     ]
    }
   ],
   "source": [
    "linear_mse = mean_squared_error(y_test, linear_pred)\n",
    "linear_r2 = r2_score(y_test, linear_pred)\n",
    "poly_mse = mean_squared_error(y_test, poly_pred)\n",
    "poly_r2 = r2_score(y_test, poly_pred)\n",
    "svr_mse = mean_squared_error(y_test, svr_pred)\n",
    "svr_r2 = r2_score(y_test, svr_pred)\n",
    "\n",
    "# Printing evaluation metrics\n",
    "print(f\"Linear Regression MSE: {linear_mse:.2f}\")\n",
    "print(f\"Linear Regression R-squared: {linear_r2:.2f}\")\n",
    "print(f\"Polynomial Regression MSE: {poly_mse:.2f}\")\n",
    "print(f\"Polynomial Regression R-squared: {poly_r2:.2f}\")\n",
    "print(f\"SVR Regression MSE: {svr_mse:.2f}\")\n",
    "print(f\"SVR Regression R-squared: {svr_r2:.2f}\")"
   ]
  },
  {
   "cell_type": "code",
   "execution_count": null,
   "id": "8267b403",
   "metadata": {},
   "outputs": [],
   "source": []
  }
 ],
 "metadata": {
  "kernelspec": {
   "display_name": "Python 3 (ipykernel)",
   "language": "python",
   "name": "python3"
  },
  "language_info": {
   "codemirror_mode": {
    "name": "ipython",
    "version": 3
   },
   "file_extension": ".py",
   "mimetype": "text/x-python",
   "name": "python",
   "nbconvert_exporter": "python",
   "pygments_lexer": "ipython3",
   "version": "3.9.13"
  }
 },
 "nbformat": 4,
 "nbformat_minor": 5
}
